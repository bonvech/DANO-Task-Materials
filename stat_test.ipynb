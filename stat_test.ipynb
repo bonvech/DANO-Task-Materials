{
 "cells": [
  {
   "cell_type": "markdown",
   "metadata": {},
   "source": [
    "# Статистические тесты\n",
    "## Оглавление:\n",
    "\n",
    "* Т-критерий Стюдента: [Теория](#student_t), [Код](#student_c)\n",
    "* Т-критерий Уэлча: [Теория](#welch_t), [Код](#welch_c)\n",
    "* U-критерий Манна Уитни: [Теория](#mannwhitneyu_t), [Код](#mannwhitneyu_c)\n",
    "* Тест Шапиро-Уилка: [Теория](#shapiro_t), [Код](#shapiro_c)\n",
    "* Тест Левене: [Теория](#levene_t), [Код](#levene_c)\n",
    "* Однофакторная ANOVA: [Теория](#oneway_anova_t), [Код](#oneway_anova_c)\n",
    "* Критерий Краскела — Уоллиса: [Теория](#kruskal_t), [Код](#kruskal_c)\n",
    "* Поправка Бонферони: [Теория](#bonferroni_t), [Код](#bonferroni_c)\n",
    "* Критерий Тьюки: [Теория](#tukey_t), [Код](#tukey_c)\n",
    "* Критерий $\\chi^2$ Пирсона: [Теория](#chi2_t), [Код](#chi2_c)\n",
    "* Точный критерий Фишера: [Теория](#exact_fisher_t), [Код](#exact_fisher_c)\n",
    "* Линейная регрессия: [Теория](#lin_reg_t), [Код](#lin_reg_c)\n",
    "* Логистическая регрессия: [Теория](#log_reg_t), [Код](#log_reg_с)"
   ]
  },
  {
   "cell_type": "markdown",
   "metadata": {},
   "source": [
    "<img src=image.png alt=\"drawing\" width=\"750\"/>\n"
   ]
  },
  {
   "cell_type": "markdown",
   "metadata": {},
   "source": [
    "<a id='student_t'></a>\n",
    "\n",
    "## Т-критерий Стьюдента\n",
    "\n",
    "### Что проверяет: \n",
    "**H0**: Среднее $M_1$ $=$ Среднему $M_2$\n",
    "\n",
    "**H1**: Среднее $M_1$ $\\neq$ Среднему $M_2$\n",
    "\n",
    "### Требования к данным:\n",
    "* Нормальность распределения выборочных средних (если n измерений $\\geq$ 30, то ЦПТ делает все за нас), иначе U-критерий Манна Уитни. Проверка при помощи Тест Шапиро-Уилка\n",
    "* Равные дисперсии, иначе Т-Тест Уэлча. Проверка при помощи Тест Левена\n",
    "\n",
    "df=n-1Код для выполнения"
   ]
  },
  {
   "cell_type": "markdown",
   "metadata": {},
   "source": [
    "<a id='welch_t'></a>\n",
    "\n",
    "## Т-критерий Уэлча\n",
    "\n",
    "### Что проверяет: \n",
    "**H0**: Среднее $M_1$ $=$ Среднему $M_2$\n",
    "\n",
    "**H1**: Среднее $M_1$ $\\neq$ Среднему $M_2$\n",
    "\n",
    "### Требования к данным:\n",
    "* Нормальность распределения выборочных средних (если n измерений $\\geq$ 30, то ЦПТ делает все за нас), иначе U-критерий Манна Уитни. Проверка при помощи Тест Шапиро-Уилка\n",
    "\n",
    "df=n-1Код для выполнения"
   ]
  },
  {
   "cell_type": "markdown",
   "metadata": {},
   "source": [
    "<a id='mannwhitneyu_t'></a>\n",
    "\n",
    "## U-критерий Манна Уитни\n",
    "\n",
    "### Что проверяет:\n",
    "**H0**: Медиана $Me_1$ $=$ медиане $Me_2$\n",
    "\n",
    "**H1**: Медиана $Me_1$ $\\neq$ медиане $Me_2$\n",
    "\n",
    "### Требования к данным:\n",
    "* Нет, поскольку непараметрический критерий\n",
    "\n",
    "Код для выполнения"
   ]
  },
  {
   "cell_type": "markdown",
   "metadata": {},
   "source": [
    "<a id='shapiro_t'></a>\n",
    "\n",
    "## Тест Шапиро-Уилка\n",
    "\n",
    "### Что проверяет:\n",
    "**H0**: Случайная величина, выборка x которой известна, распределена по нормальному закону. \n",
    "\n",
    "**H1**: Случайная величина, выборка x которой известна, распределена НЕ по нормальному закону. \n",
    "\n",
    "Код для выполнения"
   ]
  },
  {
   "cell_type": "markdown",
   "metadata": {},
   "source": [
    "<a id='levene_t'></a>\n",
    "\n",
    "## Тест Левене\n",
    "\n",
    "### Что проверяет:\n",
    "**H0**: Дисперсии двух выборок равны\n",
    "\n",
    "**H1**: Дисперсии двух выборок НЕ равны\n",
    "\n",
    "Код для выполнения"
   ]
  },
  {
   "cell_type": "markdown",
   "metadata": {},
   "source": [
    "<a id='oneway_anova_t'></a>\n",
    "\n",
    "## Однофакторная ANOVA\n",
    "\n",
    "### Что проверяет:\n",
    "**H0**: Средние всех выборок равны\n",
    "\n",
    "**H1**: Хотя бы одна средняя не равна другим\n",
    "\n",
    "### Требования к данным: (Если размер выборок $\\geq$ 50, можно принебречь)\n",
    "* Нормальность распределения выборочных средних (если n измерений $\\geq$ 30, то ЦПТ делает все за нас), иначе U-критерий Манна Уитни. Проверка при помощи Тест Шапиро-Уилка\n",
    "* Равенство дисперсий во всех группах.  Проверка при помощи Тест Левена\n",
    "\n",
    "### Если требования не выполняются - непараметрический аналог \n",
    "* Критерий Краскела-Уоллиса\n",
    "\n",
    "### Если ANOVA проказал, что разница есть:\n",
    "* Поправка Бонферони\n",
    "* Критерий Тьюки\n",
    "\n",
    "Код для выполнения"
   ]
  },
  {
   "cell_type": "markdown",
   "metadata": {},
   "source": [
    "<a id='kruskal_t'></a>\n",
    "\n",
    "## Критерий Краскела — Уоллиса\n",
    "\n",
    "### Что проверяет:\n",
    "**H0**: Медианы всех выборок равны\n",
    "\n",
    "**H1**: Хотя бы одна медиана не равна другим\n",
    "\n",
    "### Требования к данным:\n",
    "* Распределения значений в разных выборках похожи по форме.\n",
    "\n",
    "df_1=k-1(k-кол-во групп), df_2=n-1(общее кол-во значений)Код для выполнения"
   ]
  },
  {
   "cell_type": "markdown",
   "metadata": {},
   "source": [
    "<a id='bonferroni_t'></a>\n",
    "\n",
    "## Поправка Бонферони\n",
    "Если нужно провести множественные сравнения, то стоит корректировать p-value, чтобы мы не делали некорректных выводов. \n",
    "\n",
    "Поэтому мы проводим сравнения, но исправляем p-value на: $p=p*\\frac{k*(k-1)}{2}$, где k - кол-во выборок\n",
    "\n",
    "Важно: При большом k оценка становиться слишком консервативной, поэтому стоит использовать T-критерий Тьюки\n"
   ]
  },
  {
   "cell_type": "markdown",
   "metadata": {},
   "source": [
    "<a id='tukey_t'></a>\n",
    "\n",
    "## Критерий Тьюки (обычно применяется в связке с ANOVA)\n",
    "\n",
    "### Что проверяет:\n",
    "**H0**: Средние двух групп равны\n",
    "\n",
    "**H1**: Средние двух групп НЕ равны\n",
    "\n",
    "### Требования к данным:\n",
    "* Нормальность распределения выборочных средних (если n измерений $\\geq$ 30, то ЦПТ делает все за нас), иначе U-критерий Манна Уитни. Проверка при помощи Тест Шапиро-Уилка\n",
    "* Равенство дисперсий в группах.  Проверка при помощи Тест Левена\n",
    "\n",
    "### Для визуализации использовать:\n",
    "* Для каждого попарного сравнения нарисовать errorbar (Если 95%-доверительные интервалы для разности средних включают в себя ноль, то для этой пары p-value $\\geq 0.05 \\Rightarrow \\mu_A=\\mu_B$.)\n",
    "\n",
    "\n",
    "Код для выполнения"
   ]
  },
  {
   "cell_type": "markdown",
   "metadata": {},
   "source": [
    "<a id='chi2_t'></a>\n",
    "\n",
    "## Критерий $\\chi^2$ Пирсона\n",
    "\n",
    "### Что проверяет:\n",
    "**H0**: Между двумя категориальными переменными нет связи\n",
    "\n",
    "**H1**: Мужду двумя категориальными переменными есть значимая связь\n",
    "\n",
    "### Требования к данным\n",
    "* Данные категориальные\n",
    "* В каждой ячейке частота более чем 5, иначе Точный критерий Фишера\n",
    "\n",
    "df=(n-1)*(m-1)! Тест применяется к таблицам сопряженности\n"
   ]
  },
  {
   "cell_type": "markdown",
   "metadata": {},
   "source": [
    "<a id='exact_fisher_t'></a>\n",
    "\n",
    "## Точный критерий Фишера\n",
    "\n",
    "### Что проверяет:\n",
    "**H0**: Между двумя категориальными переменными нет связи\n",
    "\n",
    "**H1**: Мужду двумя категориальными переменными есть значимая связь\n",
    "\n",
    "### Требования к данным\n",
    "* Данные категориальные\n",
    "\n",
    "! Тест применяется к таблицам сопряженности\n",
    "\n",
    "### Идея теста: \n",
    "При условии, что никакой взаимосвязи между исследуемыми переменными нет, тогда с какой вероятностью мы можем получить такую таблицу или с еще более ярко выраженными результатами"
   ]
  },
  {
   "cell_type": "markdown",
   "metadata": {},
   "source": [
    "<a id='lin_reg_t'></a>\n",
    "\n",
    "## Линейная регрессия\n",
    "\n",
    "### Что показывает: \n",
    "Зависимоть одной (предсказываемой) от n других переменных с линейной функцией зависимости.\n",
    "\n",
    "### Требования к данным\n",
    "* Нормальное распределение остатков модели\n",
    "* Постоянство дисперсии ошибок \n",
    "* Отсутсвтвие мультиколлинеарности между предикторами\n",
    "* Линейная зависимость ЗП от НП\n",
    "\n",
    "### Если много параметров и надо найти лучшую комбинацию\n",
    "Если p-value для параметра ≥ 0.05, то он незначим (неотличен от нуля в общем зачёте), иначе значим, также обычно мы исследуем обычную линейную регрессию для доказательства, а множественную используем либо для поиска гипотезы, либо для подтверждения устойчивости мат. модели (одиночного линрега)\n"
   ]
  },
  {
   "cell_type": "markdown",
   "metadata": {},
   "source": [
    "<a id='log_reg_t'></a>\n",
    "\n",
    "## Логистическая регрессия\n",
    "\n",
    "### Что показывает:\n",
    "Предсказание вероятности наступления бинарного события (например, \"да\" или \"нет\") на основе нескольких независимых переменных. Она позволяет оценить, как различные факторы влияют на вероятность того, что событие произойдет.\n",
    "\n",
    "### Требования к данным:\n",
    "* Нормальное распределение остатков модели не обязательно, но желательно.\n",
    "* Отсутствие мультиколлинеарности между предикторами.\n",
    "* Достаточный объем данных для надежной оценки.\n",
    "* Данные должны быть полными, без пропусков.\n",
    "\n",
    "### Если много параметров и надо найти лучшую комбинацию\n",
    "Если p-value для параметра ≥ 0.05, то он считается незначимым. В логистической регрессии также часто применяются методы отбора признаков, такие как пошаговое включение или исключение, чтобы определить наиболее значимые переменные."
   ]
  },
  {
   "cell_type": "code",
   "execution_count": 3,
   "metadata": {
    "is_executing": true
   },
   "outputs": [],
   "source": [
    "# Все библиотеки\n",
    "\n",
    "import pandas as pd\n",
    "from scipy.stats import ttest_ind, levene, mannwhitneyu,shapiro, \\\n",
    "    f_oneway, kruskal, chi2_contingency, fisher_exact\n",
    "import numpy as np\n",
    "from statsmodels.stats.multicomp import pairwise_tukeyhsd\n",
    "import matplotlib.pyplot as plt\n",
    "import statsmodels.api as sm\n",
    "from statsmodels.stats.outliers_influence import variance_inflation_factor\n",
    "from statsmodels.stats.diagnostic import het_breuschpagan\n",
    "import seaborn as sns\n",
    "from sklearn.metrics import roc_auc_score, roc_curve\n",
    "import pingouin as pg"
   ]
  },
  {
   "cell_type": "markdown",
   "metadata": {},
   "source": [
    "<a id='student_c'></a>\n",
    "<a id='welch_c'></a>\n",
    "<a id='mannwhitneyu_c'></a>\n",
    "\n",
    "## Код расчета Т-Критерия Стюдента, Т-Критерия Уэлча, U-Критерия Манна-Уитни"
   ]
  },
  {
   "cell_type": "code",
   "execution_count": 4,
   "metadata": {},
   "outputs": [],
   "source": [
    "def normal_means(s):\n",
    "    choice_iterations = 1000000\n",
    "    sample_size = 100\n",
    "    shapiro_iterations = 25\n",
    "    unique_elems = s.unique()\n",
    "    arr = pd.Series([np.random.choice(unique_elems, len(s)).mean() for _ in range(choice_iterations)])\n",
    "    return np.mean([shapiro(arr.sample(sample_size))[1] for _ in range(shapiro_iterations)])\n",
    "\n",
    "def equal_var(*s):\n",
    "    p_levene = levene(*s)[-1]\n",
    "    if p_levene > 0.05:\n",
    "        print('Дисперсии выборок равны')\n",
    "    else:\n",
    "        print('Дисперсии выборок равны') \n",
    "    return p_levene\n",
    "\n",
    "def compare_mean(df, col1, col2):\n",
    "    s1 = df[col1]\n",
    "    s2 = df[col2]\n",
    "    p_normal_means_s1 = normal_means(s1)\n",
    "    p_normal_means_s12 = normal_means(s2)\n",
    "    p_equal_var = equal_var(s1, s2)\n",
    "    print('p_normal_means_s1:', p_normal_means_s1)\n",
    "    print('p_normal_means_s12:', p_normal_means_s12)\n",
    "    print('p_equal_var:', p_equal_var)\n",
    "    if p_normal_means_s1 > 0.05 and p_normal_means_s12 > 0.05:\n",
    "        if p_equal_var > 0.05:\n",
    "            print('Т-Критерий Стьюдента')\n",
    "            p_test = ttest_ind(s1, s2, equal_var=True)[-1]\n",
    "        else:\n",
    "            print('Т-Критерий Уэлча')\n",
    "            p_test = ttest_ind(s1, s2, equal_var=False)[-1]\n",
    "    else:\n",
    "        print('U-критерий Манна-Уитни')\n",
    "        p_test = mannwhitneyu(s1, s2)[-1]\n",
    "    print('p-value:', p_test)\n",
    "    if p_test <= 0.05:\n",
    "        print('Средние стат. значимо отличаются')\n",
    "    else:\n",
    "        print('Средние стат. значимо НЕ отличаются')\n",
    "    \n"
   ]
  },
  {
   "cell_type": "markdown",
   "metadata": {},
   "source": [
    "<a id='shapiro_c'></a>\n",
    "\n",
    "## Код расчета Теста Шапиро-Уилка"
   ]
  },
  {
   "cell_type": "code",
   "execution_count": 5,
   "metadata": {},
   "outputs": [],
   "source": [
    "def norm_column(df, col):\n",
    "    p_shapiro = shapiro(df[col])[-1]\n",
    "    if p_shapiro > 0.05:\n",
    "        print('Данные распределены нормально')\n",
    "    else:\n",
    "        print('Данные распределены НЕ нормально') \n",
    "    return p_shapiro"
   ]
  },
  {
   "cell_type": "markdown",
   "metadata": {},
   "source": [
    "<a id='levene_c'></a>\n",
    "\n",
    "## Код расчета Теста Левене"
   ]
  },
  {
   "cell_type": "code",
   "execution_count": 6,
   "metadata": {},
   "outputs": [],
   "source": [
    "def equal_var(*s):\n",
    "    p_levene = levene(*s)[-1]\n",
    "    if p_levene > 0.05:\n",
    "        print('Дисперсии выборок равны')\n",
    "    else:\n",
    "        print('Дисперсии выборок равны') \n",
    "    return p_levene"
   ]
  },
  {
   "cell_type": "markdown",
   "metadata": {},
   "source": [
    "<a id='oneway_anova_c'></a>\n",
    "<a id='kruskal_c'></a>\n",
    "\n",
    "\n",
    "## Код расчета Однофакторного ANOVA , Критерия Краскела - Уоллиса"
   ]
  },
  {
   "cell_type": "code",
   "execution_count": 7,
   "metadata": {},
   "outputs": [],
   "source": [
    "def oneway_anova_kruskal(*s):\n",
    "    all_s_normal_means = all([normal_means(si) for si in s])\n",
    "    all_len_50 = all([len(si) >= 50 for si in s])\n",
    "    p_equal_var = equal_var(*s)\n",
    "    if (all_s_normal_means and (p_equal_var > 0.05)) or all_len_50:\n",
    "        p_test = f_oneway(*s)[-1]\n",
    "    else:\n",
    "        p_test = kruskal(*s)[-1]\n",
    "    print('p-value:', p_test)\n",
    "    if p_test <= 0.05:\n",
    "        print('Хотя бы 1 средняя не равна другим')\n",
    "    else:\n",
    "        print('Средние всех выборок равны')\n",
    "        print('Необходимо провести попарные сравнения')"
   ]
  },
  {
   "cell_type": "markdown",
   "metadata": {},
   "source": [
    "<a id='bonferroni_c'></a>\n",
    "\n",
    "## Код расчета множественных сравнений при помощи поправки Бонферони"
   ]
  },
  {
   "cell_type": "code",
   "execution_count": 8,
   "metadata": {},
   "outputs": [],
   "source": [
    "def bonferroni_pairwise_t_test(data, value_col, group_col):\n",
    "    groups = data[group_col].unique()\n",
    "    k = len(groups)\n",
    "    comparisons = []\n",
    "    p_values = []\n",
    "\n",
    "    for i, group1 in enumerate(groups):\n",
    "        for group2 in groups[i + 1:]:\n",
    "            values1 = data.loc[data[group_col] == group1, value_col]\n",
    "            values2 = data.loc[data[group_col] == group2, value_col]\n",
    "            p_value = ttest_ind(values1, values2, equal_var=False)[-1]\n",
    "            comparisons.append(f\"{group1} vs {group2}\")\n",
    "            p_values.append(p_value)\n",
    "\n",
    "    bonferroni_p_values = [p * (k * (k - 1) / 2) for p in p_values]\n",
    "    bonferroni_p_values = np.clip(bonferroni_p_values, 0, 1)\n",
    "\n",
    "    results = pd.DataFrame({\n",
    "        \"Comparison\": comparisons,\n",
    "        \"Raw P-Value\": p_values,\n",
    "        \"Bonferroni Adjusted P-Value\": bonferroni_p_values,\n",
    "        \"Significant\": [\"Yes\" if p < 0.05 else \"No\" for p in bonferroni_p_values]\n",
    "    })\n",
    "\n",
    "    return results"
   ]
  },
  {
   "cell_type": "markdown",
   "metadata": {},
   "source": [
    "<a id='tukey_c'></a>\n",
    "\n",
    "## Код расчета множественных сравнений при Теста Тьюки\n",
    "\n",
    "**Используй, только если использовал ANOVA**"
   ]
  },
  {
   "cell_type": "code",
   "execution_count": 9,
   "metadata": {},
   "outputs": [],
   "source": [
    "def tukey_hsd_test(data, group_col, value_col):\n",
    "    tukey_result = pairwise_tukeyhsd(\n",
    "        endog=data[value_col], \n",
    "        groups=data[group_col], \n",
    "        alpha=0.05\n",
    "    )\n",
    "    \n",
    "    result_df = pd.DataFrame(data=tukey_result._results_table.data[1:], \n",
    "                             columns=tukey_result._results_table.data[0])\n",
    "    \n",
    "    numeric_columns = ['meandiff', 'lower', 'upper', 'p-adj']\n",
    "    result_df[numeric_columns] = result_df[numeric_columns].apply(pd.to_numeric)\n",
    "    return result_df\n",
    "\n",
    "def visualize_tukey_results(result_df: pd.DataFrame):\n",
    "    fig, ax = plt.subplots(figsize=(10, 6))\n",
    "    \n",
    "    comparisons = [f\"{g1} vs {g2}\" for g1, g2 in zip(result_df[\"group1\"], result_df[\"group2\"])]\n",
    "    mean_diffs = result_df[\"meandiff\"]\n",
    "    errors = [(upper - mean, mean - lower) for mean, lower, upper in zip(mean_diffs, result_df[\"lower\"], result_df[\"upper\"])]\n",
    "    lower_errors, upper_errors = zip(*errors)\n",
    "    \n",
    "    ax.errorbar(\n",
    "        range(len(comparisons)), mean_diffs, \n",
    "        yerr=[lower_errors, upper_errors], \n",
    "        fmt='o', capsize=5, color='blue', ecolor='red', elinewidth=2\n",
    "    )\n",
    "    \n",
    "    ax.axhline(0, color='gray', linestyle='--', linewidth=1)\n",
    "    ax.set_xticks(range(len(comparisons)))\n",
    "    ax.set_xticklabels(comparisons, rotation=45, ha='right')\n",
    "    ax.set_title(\"Tukey HSD Test Results\")\n",
    "    ax.set_xlabel(\"Comparisons\")\n",
    "    ax.set_ylabel(\"Mean Difference\")\n",
    "    plt.tight_layout()\n",
    "    plt.show()"
   ]
  },
  {
   "cell_type": "markdown",
   "metadata": {},
   "source": [
    "<a id='chi2_c'></a>\n",
    "\n",
    "## Код расчета $\\chi^2$ Пирсона"
   ]
  },
  {
   "cell_type": "code",
   "execution_count": 10,
   "metadata": {},
   "outputs": [
    {
     "name": "stdout",
     "output_type": "stream",
     "text": [
      "Хи-квадрат: 0.2716\n",
      "p-значение: 0.8730\n",
      "Степени свободы: 2\n",
      "Ожидаемые значения:\n",
      "[[10.43478261 18.91304348 30.65217391]\n",
      " [ 5.56521739 10.08695652 16.34782609]]\n"
     ]
    }
   ],
   "source": [
    "# Таблица сопряженности наблюдаемых данных\n",
    "# Пример данных: тест на зависимость двух переменных (A и B) с тремя категориями\n",
    "observed = np.array([[10, 20, 30], \n",
    "                     [6,  9,  17]])\n",
    "chi2, p, dof, expected = chi2_contingency(observed)\n",
    "print(f\"Хи-квадрат: {chi2:.4f}\")\n",
    "print(f\"p-значение: {p:.4f}\")\n",
    "print(f\"Степени свободы: {dof}\")\n",
    "print(\"Ожидаемые значения:\")\n",
    "print(expected)"
   ]
  },
  {
   "cell_type": "code",
   "execution_count": null,
   "metadata": {},
   "outputs": [],
   "source": [
    "#передать колонки с категориальными значениями\n",
    "pg.chi2_independence(df['cat_col_1'], df['cat_col_2'])"
   ]
  },
  {
   "cell_type": "markdown",
   "metadata": {},
   "source": [
    "*Интепретация остатков*"
   ]
  },
  {
   "cell_type": "code",
   "execution_count": 13,
   "metadata": {},
   "outputs": [
    {
     "data": {
      "image/png": "[encoded data removed]",
      "text/plain": [
       "<Figure size 640x480 with 3 Axes>"
      ]
     },
     "metadata": {},
     "output_type": "display_data"
    }
   ],
   "source": [
    "from statsmodels.graphics.mosaicplot import mosaic\n",
    "\n",
    "#таблица с остатками, можно посмотреть где больше всего было отклонение и в какую сторону\n",
    "mosaic(observed, gap=0.05, title='two by two table', statistic=True)\n",
    "plt.show()"
   ]
  },
  {
   "cell_type": "markdown",
   "metadata": {},
   "source": [
    "<a id='exact_fisher_c'></a>\n",
    "\n",
    "## Код рассчета Точного критерия Фишера"
   ]
  },
  {
   "cell_type": "code",
   "execution_count": 15,
   "metadata": {},
   "outputs": [
    {
     "name": "stdout",
     "output_type": "stream",
     "text": [
      "Отношение шансов: 1.1667\n",
      "p-значение: 1.0000\n"
     ]
    }
   ],
   "source": [
    "# Таблица сопряженности (2x2)\n",
    "# Пример данных: тест на зависимость переменных (A и B)\n",
    "observed = [[10, 20], \n",
    "            [6,  14]]\n",
    "oddsratio, p_value = fisher_exact(observed)\n",
    "print(f\"Отношение шансов: {oddsratio:.4f}\")\n",
    "print(f\"p-значение: {p_value:.4f}\")\n"
   ]
  },
  {
   "cell_type": "markdown",
   "metadata": {},
   "source": [
    "## Линейная регрессия"
   ]
  },
  {
   "cell_type": "code",
   "execution_count": null,
   "metadata": {},
   "outputs": [],
   "source": [
    "def check_linear_regression(data, target, predictors):\n",
    "    X = data[predictors]\n",
    "    y = data[target]\n",
    "    X = sm.add_constant(X)\n",
    "    model = sm.OLS(y, X).fit()\n",
    "    print(model.summary())\n",
    "    \n",
    "    # 1. Проверка нормальности остатков\n",
    "    residuals = model.resid\n",
    "    stat, p = shapiro(residuals)\n",
    "    print(f\"Shapiro-Wilk Test for Normality: Statistic={stat:.4f}, p-value={p:.4f}\")\n",
    "    if p > 0.05:\n",
    "        print(\"Residuals follow a normal distribution.\")\n",
    "    else:\n",
    "        print(\"Residuals do not follow a normal distribution.\")\n",
    "    \n",
    "    # Q-Q Plot\n",
    "    sm.qqplot(residuals, line='s')\n",
    "    plt.title('Q-Q Plot of Residuals')\n",
    "    plt.show()\n",
    "    \n",
    "    # 2. Проверка постоянства дисперсии (гомоскедастичности)\n",
    "    _, pval, _, _ = het_breuschpagan(residuals, X)\n",
    "    print(f\"Breusch-Pagan Test for Homoscedasticity: p-value={pval:.4f}\")\n",
    "    if pval > 0.05:\n",
    "        print(\"Residuals are homoscedastic.\")\n",
    "    else:\n",
    "        print(\"Residuals are heteroscedastic.\")\n",
    "    \n",
    "    # 3. Проверка мультиколлинеарности (VIF)\n",
    "    vif_data = pd.DataFrame()\n",
    "    vif_data[\"Predictor\"] = predictors\n",
    "    vif_data[\"VIF\"] = [variance_inflation_factor(X.values, i+1) for i in range(len(predictors))]\n",
    "    print(vif_data)\n",
    "    \n",
    "    # 4. Проверка линейности\n",
    "    sns.residplot(x=model.predict(X), y=residuals, lowess=True, line_kws={'color': 'red'})\n",
    "    plt.title('Residuals vs Fitted')\n",
    "    plt.xlabel('Fitted values')\n",
    "    plt.ylabel('Residuals')\n",
    "    plt.show()"
   ]
  },
  {
   "cell_type": "markdown",
   "metadata": {},
   "source": [
    "## Логистическая регрессия"
   ]
  },
  {
   "cell_type": "code",
   "execution_count": 17,
   "metadata": {},
   "outputs": [],
   "source": [
    "# Функция проверки требований для логистической регрессии\n",
    "def check_logistic_regression(data, target, predictors):\n",
    "    X = data[predictors]\n",
    "    y = data[target]\n",
    "    X = sm.add_constant(X)  # Добавление константы для модели\n",
    "    \n",
    "    # Строим модель\n",
    "    model = sm.Logit(y, X).fit()\n",
    "    print(model.summary())\n",
    "    \n",
    "    # 1. ROC-кривая и AUC\n",
    "    predicted_probs = model.predict(X)\n",
    "    auc = roc_auc_score(y, predicted_probs)\n",
    "    print(f\"AUC Score: {auc:.4f}\")\n",
    "    \n",
    "    fpr, tpr, _ = roc_curve(y, predicted_probs)\n",
    "    plt.plot(fpr, tpr, label=f'AUC = {auc:.2f}')\n",
    "    plt.plot([0, 1], [0, 1], 'k--')\n",
    "    plt.xlabel('False Positive Rate')\n",
    "    plt.ylabel('True Positive Rate')\n",
    "    plt.title('ROC Curve')\n",
    "    plt.legend()\n",
    "    plt.show()\n",
    "    \n",
    "    # 2. Проверка мультиколлинеарности (VIF)\n",
    "    vif_data = pd.DataFrame()\n",
    "    vif_data[\"Predictor\"] = predictors\n",
    "    vif_data[\"VIF\"] = [variance_inflation_factor(X.values, i+1) for i in range(len(predictors))]\n",
    "    print(vif_data)\n",
    "    \n",
    "    # 3. Проверка линейности логитов (Box-Tidwell Test)\n",
    "    X_log = np.log(X.drop('const', axis=1) + 1e-6)\n",
    "    interaction = X.drop('const', axis=1) * X_log\n",
    "    X_with_interactions = pd.concat([X, interaction], axis=1)\n",
    "    \n",
    "    model_interaction = sm.Logit(y, X_with_interactions).fit()\n",
    "    print(model_interaction.summary())"
   ]
  },
  {
   "cell_type": "markdown",
   "metadata": {},
   "source": [
    "## 2-ух факторная Анова"
   ]
  },
  {
   "cell_type": "markdown",
   "metadata": {},
   "source": [
    "pg.anova(df, dv='col1', between=['gr1', 'gr2'])"
   ]
  },
  {
   "cell_type": "markdown",
   "metadata": {},
   "source": [
    "## QQ-PLOT"
   ]
  },
  {
   "cell_type": "code",
   "execution_count": 18,
   "metadata": {},
   "outputs": [
    {
     "data": {
      "text/plain": [
       "<Axes: xlabel='Theoretical quantiles', ylabel='Ordered quantiles'>"
      ]
     },
     "execution_count": 18,
     "metadata": {},
     "output_type": "execute_result"
    },
    {
     "data": {
      "image/png": "[encoded data removed]",
      "text/plain": [
       "<Figure size 640x480 with 1 Axes>"
      ]
     },
     "metadata": {},
     "output_type": "display_data"
    }
   ],
   "source": [
    "import numpy as np\n",
    "pg.qqplot(np.random.normal(10, 5, size=30))"
   ]
  },
  {
   "cell_type": "code",
   "execution_count": null,
   "metadata": {},
   "outputs": [],
   "source": []
  }
 ],
 "metadata": {
  "kernelspec": {
   "display_name": "Python 3",
   "language": "python",
   "name": "python3"
  },
  "language_info": {
   "codemirror_mode": {
    "name": "ipython",
    "version": 3
   },
   "file_extension": ".py",
   "mimetype": "text/x-python",
   "name": "python",
   "nbconvert_exporter": "python",
   "pygments_lexer": "ipython3",
   "version": "3.12.2"
  }
 },
 "nbformat": 4,
 "nbformat_minor": 2
}
